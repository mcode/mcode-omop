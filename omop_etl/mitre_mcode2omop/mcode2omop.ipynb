{
 "cells": [
  {
   "cell_type": "markdown",
   "id": "68e96c56",
   "metadata": {},
   "source": [
    "## mCODE to OMOP Converter Prototype\n",
    "Filename: mcode2omop.ipyb <br>\n",
    "Author: May Terry <br>\n",
    "Created: 1/31/22 <br>\n",
    "Last Updated: 4/13/22 <br>\n",
    "Version: 0.6 <br>\n",
    "Notes: Updated script to insert dataframe into OMOP CDM DB"
   ]
  },
  {
   "cell_type": "code",
   "execution_count": null,
   "id": "7babf08b",
   "metadata": {},
   "outputs": [],
   "source": [
    "# import modules\n",
    "import sys\n",
    "sys.path.append('/Users/mayt/mltApps/py3/pyMitreOps')  # specify the filepath for the MitreOps libraries\n",
    "\n",
    "import pandas as pd\n",
    "import json\n",
    "import yaml\n",
    "import requests\n",
    "import lib.mitrehealth_gen_db as mhdb\n",
    "\n",
    "# set global configuration options\n",
    "pd.set_option(\"display.max_columns\", None) \n",
    "pd.get_option(\"display.max_columns\") "
   ]
  },
  {
   "cell_type": "markdown",
   "id": "449c7f28-1076-479a-9022-40806ca5aade",
   "metadata": {},
   "source": [
    "### database connections"
   ]
  },
  {
   "cell_type": "code",
   "execution_count": null,
   "id": "0df0425e",
   "metadata": {},
   "outputs": [
    {
     "ename": "",
     "evalue": "",
     "output_type": "error",
     "traceback": [
      "\u001b[1;31mRunning cells with '/usr/bin/python3' requires ipykernel package.\n",
      "Run the following command to install 'ipykernel' into the Python environment. \n",
      "Command: '/usr/bin/python3 -m pip install ipykernel -U --user --force-reinstall'"
     ]
    }
   ],
   "source": [
    "# ********** MAIN SCRIPT (with mysql): gather DB connection config info **********\n",
    "config_filename = \"./config/config_omop.yml\"\n",
    "mh_d_config_info, mh_f_config_info = mhdb.config_init(config_filename)\n",
    "print(f\"mh_d_config_info: {mh_d_config_info}\")\n",
    "print(f\"mh_f_config_info: {mh_f_config_info}\")"
   ]
  },
  {
   "cell_type": "code",
   "execution_count": null,
   "id": "b82296af",
   "metadata": {},
   "outputs": [
    {
     "ename": "",
     "evalue": "",
     "output_type": "error",
     "traceback": [
      "\u001b[1;31mRunning cells with '/usr/bin/python3' requires ipykernel package.\n",
      "Run the following command to install 'ipykernel' into the Python environment. \n",
      "Command: '/usr/bin/python3 -m pip install ipykernel -U --user --force-reinstall'"
     ]
    }
   ],
   "source": [
    "# retrieve the database connection handle. This will be used for OpenEMR DB queries\n",
    "dbcon_handle = mhdb.db_connect(mh_d_config_info)"
   ]
  },
  {
   "cell_type": "code",
   "execution_count": null,
   "id": "c9f0bee3",
   "metadata": {},
   "outputs": [
    {
     "ename": "",
     "evalue": "",
     "output_type": "error",
     "traceback": [
      "\u001b[1;31mRunning cells with '/usr/bin/python3' requires ipykernel package.\n",
      "Run the following command to install 'ipykernel' into the Python environment. \n",
      "Command: '/usr/bin/python3 -m pip install ipykernel -U --user --force-reinstall'"
     ]
    }
   ],
   "source": [
    "# close the OpenEMR database connection\n",
    "mhdb.db_disconnect(dbcon_handle,mh_d_config_info)"
   ]
  },
  {
   "cell_type": "code",
   "execution_count": null,
   "id": "4689af95",
   "metadata": {},
   "outputs": [
    {
     "ename": "",
     "evalue": "",
     "output_type": "error",
     "traceback": [
      "\u001b[1;31mRunning cells with '/usr/bin/python3' requires ipykernel package.\n",
      "Run the following command to install 'ipykernel' into the Python environment. \n",
      "Command: '/usr/bin/python3 -m pip install ipykernel -U --user --force-reinstall'"
     ]
    }
   ],
   "source": [
    "# ********** MAIN SCRIPT (with psql): gather DB connection config info **********\n",
    "config_filename = \"./config/config_omop.yml\"\n",
    "mh_d_config_info_psql, mh_f_config_info_psql = mhdb.config_init(config_filename)\n",
    "print(f\"in main - d_config_info: {mh_d_config_info_psql}\")"
   ]
  },
  {
   "cell_type": "code",
   "execution_count": null,
   "id": "34169cc7",
   "metadata": {},
   "outputs": [
    {
     "ename": "",
     "evalue": "",
     "output_type": "error",
     "traceback": [
      "\u001b[1;31mRunning cells with '/usr/bin/python3' requires ipykernel package.\n",
      "Run the following command to install 'ipykernel' into the Python environment. \n",
      "Command: '/usr/bin/python3 -m pip install ipykernel -U --user --force-reinstall'"
     ]
    }
   ],
   "source": [
    "# retrieve the database connection handle. This will be used for OpenEMR DB queries\n",
    "dbcon_handle_psql = mhdb.db_connect(mh_d_config_info_psql)\n",
    "print(f\"psql connection string: {dbcon_handle_psql}\")"
   ]
  },
  {
   "cell_type": "code",
   "execution_count": null,
   "id": "433dea81",
   "metadata": {},
   "outputs": [
    {
     "ename": "",
     "evalue": "",
     "output_type": "error",
     "traceback": [
      "\u001b[1;31mRunning cells with '/usr/bin/python3' requires ipykernel package.\n",
      "Run the following command to install 'ipykernel' into the Python environment. \n",
      "Command: '/usr/bin/python3 -m pip install ipykernel -U --user --force-reinstall'"
     ]
    }
   ],
   "source": [
    "# test the database connection. Unlike mysql, postgresql calls disconnect after the call is done.\n",
    "df_omop_rs = pd.read_sql(\"\"\"\n",
    "                 SELECT * FROM omop_vocab.vocabulary ORDER by vocabulary_id\n",
    "                 \"\"\",\n",
    "                 con = dbcon_handle_psql)"
   ]
  },
  {
   "cell_type": "code",
   "execution_count": null,
   "id": "afc3211f",
   "metadata": {},
   "outputs": [
    {
     "ename": "",
     "evalue": "",
     "output_type": "error",
     "traceback": [
      "\u001b[1;31mRunning cells with '/usr/bin/python3' requires ipykernel package.\n",
      "Run the following command to install 'ipykernel' into the Python environment. \n",
      "Command: '/usr/bin/python3 -m pip install ipykernel -U --user --force-reinstall'"
     ]
    }
   ],
   "source": [
    "df_omop_rs"
   ]
  },
  {
   "cell_type": "markdown",
   "id": "fcf9f62e-a5ce-405b-8406-24125ceb9e36",
   "metadata": {
    "tags": []
   },
   "source": [
    "### FHIR Exploration: CancerPatient"
   ]
  },
  {
   "cell_type": "code",
   "execution_count": null,
   "id": "4d4b37bb-b8b0-4573-9b2f-04f3844e3b9a",
   "metadata": {},
   "outputs": [
    {
     "ename": "",
     "evalue": "",
     "output_type": "error",
     "traceback": [
      "\u001b[1;31mRunning cells with '/usr/bin/python3' requires ipykernel package.\n",
      "Run the following command to install 'ipykernel' into the Python environment. \n",
      "Command: '/usr/bin/python3 -m pip install ipykernel -U --user --force-reinstall'"
     ]
    }
   ],
   "source": [
    "# assumes we have already retrieved the configuration info called by function mhdb.config_init(config_filename)\n",
    "print(mh_f_config_info)"
   ]
  },
  {
   "cell_type": "code",
   "execution_count": null,
   "id": "4e6d0e06-5964-4f87-87be-ae945ae2ef40",
   "metadata": {},
   "outputs": [
    {
     "ename": "",
     "evalue": "",
     "output_type": "error",
     "traceback": [
      "\u001b[1;31mRunning cells with '/usr/bin/python3' requires ipykernel package.\n",
      "Run the following command to install 'ipykernel' into the Python environment. \n",
      "Command: '/usr/bin/python3 -m pip install ipykernel -U --user --force-reinstall'"
     ]
    }
   ],
   "source": [
    "fhir_url = mh_f_config_info['fhir_endpoint']"
   ]
  },
  {
   "cell_type": "code",
   "execution_count": null,
   "id": "31fe0df6-37aa-4a7c-b35c-369a7d9c3e20",
   "metadata": {},
   "outputs": [
    {
     "ename": "",
     "evalue": "",
     "output_type": "error",
     "traceback": [
      "\u001b[1;31mRunning cells with '/usr/bin/python3' requires ipykernel package.\n",
      "Run the following command to install 'ipykernel' into the Python environment. \n",
      "Command: '/usr/bin/python3 -m pip install ipykernel -U --user --force-reinstall'"
     ]
    }
   ],
   "source": [
    "# resource qualifier to make this more modular\n",
    "fhir_resource_name = \"Patient\"\n",
    "\n",
    "fhir_get_resource = fhir_url + \"/\" + fhir_resource_name\n",
    "\n",
    "test_url = \"https://api.logicahealth.org/mcodestu2/open/Patient/cancer-patient-eve-anyperson\"\n",
    "\n",
    "r = requests.get(url = test_url) # with parameters \n",
    "\n",
    "# extracting data in json format\n",
    "data = r.json()"
   ]
  },
  {
   "cell_type": "code",
   "execution_count": null,
   "id": "bc737db5-c2a0-48c9-a91d-a19ca4674e10",
   "metadata": {},
   "outputs": [
    {
     "ename": "",
     "evalue": "",
     "output_type": "error",
     "traceback": [
      "\u001b[1;31mRunning cells with '/usr/bin/python3' requires ipykernel package.\n",
      "Run the following command to install 'ipykernel' into the Python environment. \n",
      "Command: '/usr/bin/python3 -m pip install ipykernel -U --user --force-reinstall'"
     ]
    }
   ],
   "source": [
    "data"
   ]
  },
  {
   "cell_type": "code",
   "execution_count": null,
   "id": "a6340ee8-3ffd-435f-9624-6036ea46e233",
   "metadata": {},
   "outputs": [
    {
     "ename": "",
     "evalue": "",
     "output_type": "error",
     "traceback": [
      "\u001b[1;31mRunning cells with '/usr/bin/python3' requires ipykernel package.\n",
      "Run the following command to install 'ipykernel' into the Python environment. \n",
      "Command: '/usr/bin/python3 -m pip install ipykernel -U --user --force-reinstall'"
     ]
    }
   ],
   "source": [
    "# using fhir.resources 6.2.0 (https://pypi.org/project/fhir.resources/6.2.0/)\n",
    "from fhir.resources.patient import Patient"
   ]
  },
  {
   "cell_type": "code",
   "execution_count": null,
   "id": "3b8e7c43-3a1f-4113-af91-0a65737fa063",
   "metadata": {},
   "outputs": [
    {
     "ename": "",
     "evalue": "",
     "output_type": "error",
     "traceback": [
      "\u001b[1;31mRunning cells with '/usr/bin/python3' requires ipykernel package.\n",
      "Run the following command to install 'ipykernel' into the Python environment. \n",
      "Command: '/usr/bin/python3 -m pip install ipykernel -U --user --force-reinstall'"
     ]
    }
   ],
   "source": [
    "# populate the Patient object from the retrieved FHIR resource. fhir.resources will read and verify the resourceType of Patient before populating.\n",
    "pat = Patient(**data)"
   ]
  },
  {
   "cell_type": "code",
   "execution_count": null,
   "id": "461f0b8c-aed6-4051-ade6-e30737d32f3c",
   "metadata": {},
   "outputs": [
    {
     "ename": "",
     "evalue": "",
     "output_type": "error",
     "traceback": [
      "\u001b[1;31mRunning cells with '/usr/bin/python3' requires ipykernel package.\n",
      "Run the following command to install 'ipykernel' into the Python environment. \n",
      "Command: '/usr/bin/python3 -m pip install ipykernel -U --user --force-reinstall'"
     ]
    }
   ],
   "source": [
    "print(pat.id)\n",
    "print(pat.name[0].family)\n",
    "print(pat.name[0].given[0])\n",
    "print(pat.meta.source)\n",
    "print(pat.gender)\n",
    "print(pat.address[0].city)\n",
    "print(pat.communication[0].language.coding[0].code)\n",
    "print(pat.meta.lastUpdated)\n",
    "birthDate = pat.birthDate\n",
    "print(type(pat.birthDate))\n",
    "print(birthDate.year)"
   ]
  },
  {
   "cell_type": "code",
   "execution_count": null,
   "id": "f8a92135-35c2-4b7b-ba99-c0c31e3e874c",
   "metadata": {},
   "outputs": [
    {
     "ename": "",
     "evalue": "",
     "output_type": "error",
     "traceback": [
      "\u001b[1;31mRunning cells with '/usr/bin/python3' requires ipykernel package.\n",
      "Run the following command to install 'ipykernel' into the Python environment. \n",
      "Command: '/usr/bin/python3 -m pip install ipykernel -U --user --force-reinstall'"
     ]
    }
   ],
   "source": [
    "# strip the timestamp from the date; for several tables, OMOP dates are required and do not contain time.\n",
    "# we should make this a convenience utility function.\n",
    "# put date variable of interest into a temp variable\n",
    "full_datetime = pat.meta.lastUpdated\n",
    "\n",
    "from datetime import datetime\n",
    "shortDate = full_datetime.strftime('%Y-%m-%d')\n",
    "print(shortDate)"
   ]
  },
  {
   "cell_type": "code",
   "execution_count": null,
   "id": "8907751d-5b66-4910-9865-0fb675f9892e",
   "metadata": {},
   "outputs": [
    {
     "ename": "",
     "evalue": "",
     "output_type": "error",
     "traceback": [
      "\u001b[1;31mRunning cells with '/usr/bin/python3' requires ipykernel package.\n",
      "Run the following command to install 'ipykernel' into the Python environment. \n",
      "Command: '/usr/bin/python3 -m pip install ipykernel -U --user --force-reinstall'"
     ]
    }
   ],
   "source": [
    "print((pat.meta.lastUpdated).strftime('%Y-%m-%d'))"
   ]
  },
  {
   "cell_type": "markdown",
   "id": "6d40c43d-05e9-413b-a71b-14e929807716",
   "metadata": {},
   "source": [
    "**Handling Extensions**\n",
    "* Extensions are handled pythonically. <br>\n",
    "* Needs exception handling for missing extensions."
   ]
  },
  {
   "cell_type": "code",
   "execution_count": null,
   "id": "ae5924e0-27e6-4b8a-9736-0194938b31d1",
   "metadata": {},
   "outputs": [
    {
     "ename": "",
     "evalue": "",
     "output_type": "error",
     "traceback": [
      "\u001b[1;31mRunning cells with '/usr/bin/python3' requires ipykernel package.\n",
      "Run the following command to install 'ipykernel' into the Python environment. \n",
      "Command: '/usr/bin/python3 -m pip install ipykernel -U --user --force-reinstall'"
     ]
    }
   ],
   "source": [
    "type_check = type(pat.extension)\n",
    "print(type(pat.extension))\n",
    "print((type_check, isinstance(type_check, type(None)))) \n",
    "print(type_check is None)\n",
    "\n",
    "# check if an extension exists. If so, then we process it.    \n",
    "if pat.extension:\n",
    "    print(\"pat.extension exists\")\n",
    "else:\n",
    "    print(\"pat.extension does not exist\")\n",
    "    "
   ]
  },
  {
   "cell_type": "code",
   "execution_count": null,
   "id": "fac46042-5b3a-4fc3-b610-38ee65084a5f",
   "metadata": {},
   "outputs": [
    {
     "ename": "",
     "evalue": "",
     "output_type": "error",
     "traceback": [
      "\u001b[1;31mRunning cells with '/usr/bin/python3' requires ipykernel package.\n",
      "Run the following command to install 'ipykernel' into the Python environment. \n",
      "Command: '/usr/bin/python3 -m pip install ipykernel -U --user --force-reinstall'"
     ]
    }
   ],
   "source": [
    "# play cell to test handling paths and values.\n",
    "# if an extension exists, then get the canonical URLs and the value of the 2nd extension list entry.\n",
    "if pat.extension:\n",
    "    # print(\"pat.extension exists\")\n",
    "    print(pat.extension[0].url)\n",
    "    print(pat.extension[1].url)\n",
    "    print(pat.extension[1].valueCode)"
   ]
  },
  {
   "cell_type": "code",
   "execution_count": null,
   "id": "49a889ff-d1dc-41ad-8104-7d462f9abead",
   "metadata": {},
   "outputs": [
    {
     "ename": "",
     "evalue": "",
     "output_type": "error",
     "traceback": [
      "\u001b[1;31mRunning cells with '/usr/bin/python3' requires ipykernel package.\n",
      "Run the following command to install 'ipykernel' into the Python environment. \n",
      "Command: '/usr/bin/python3 -m pip install ipykernel -U --user --force-reinstall'"
     ]
    }
   ],
   "source": [
    "# get FHIR extension values\n",
    "# check the URLs with each extension\n",
    "# print(len(pat.extension))\n",
    "# initialize variables\n",
    "race_category_code = 0\n",
    "ethnicity_category_code = 0\n",
    "birth_sex_code = 0\n",
    "\n",
    "if pat.extension:\n",
    "    i = 0\n",
    "    while i < (len(pat.extension)):\n",
    "        print(i)\n",
    "        temp_url_string = pat.extension[i].url\n",
    "        print(temp_url_string)\n",
    "        # simp_code = pat.extension[i].valueCoding.code\n",
    "        # print(f\"code: {complex_code}\")\n",
    "        if temp_url_string == \"http://hl7.org/fhir/us/core/StructureDefinition/us-core-race\":\n",
    "            complex_code = pat.extension[i].extension[0].valueCoding.code\n",
    "            race_category_code = complex_code\n",
    "            print(f\"race_category_code: {race_category_code}\")\n",
    "            i += 1\n",
    "            continue         \n",
    "        elif temp_url_string == \"http://hl7.org/fhir/us/core/StructureDefinition/us-core-ethnicity\":\n",
    "            ethnicity_category_code == complex_code\n",
    "            print(f\"ethnicity_category_code: {ethnicity_category_code}\")\n",
    "            i += 1\n",
    "            continue           \n",
    "        elif temp_url_string == \"http://hl7.org/fhir/us/core/StructureDefinition/us-core-birthsex\":\n",
    "            simp_code = pat.extension[i].valueCode\n",
    "            birth_sex_code = simp_code\n",
    "            print(f\"birth_sex_code: {birth_sex_code}\")\n",
    "            i += 1\n",
    "            continue          \n",
    "        else:\n",
    "            print(\"url not found\")\n",
    "            continue\n",
    "\n",
    "# print(pat.extension[0].extension[0].valueCoding.code)"
   ]
  },
  {
   "cell_type": "code",
   "execution_count": null,
   "id": "60c12ecc-46d5-460c-bcf7-16dad07dff85",
   "metadata": {},
   "outputs": [
    {
     "ename": "",
     "evalue": "",
     "output_type": "error",
     "traceback": [
      "\u001b[1;31mRunning cells with '/usr/bin/python3' requires ipykernel package.\n",
      "Run the following command to install 'ipykernel' into the Python environment. \n",
      "Command: '/usr/bin/python3 -m pip install ipykernel -U --user --force-reinstall'"
     ]
    }
   ],
   "source": [
    "# create an OMOP dataframe for PERSON.\n",
    "df_omop_person = pd.DataFrame({'person_id': pd.Series(dtype='int'),\n",
    "                    'gender_concept_id': pd.Series(dtype='int'),\n",
    "                    'year_of_birth': pd.Series(dtype='int'),\n",
    "                    'month_of_birth': pd.Series(dtype='int'),\n",
    "                    'day_of_birth': pd.Series(dtype='int'),\n",
    "                    'birth_datetime': pd.Series(dtype='str'),\n",
    "                    'race_concept_id':pd.Series(dtype='int'),\n",
    "                    'ethnicity_concept_id':pd.Series(dtype='int'),\n",
    "                    'location_id':pd.Series(dtype='int'),\n",
    "                    'provider_id':pd.Series(dtype='int'),\n",
    "                    'care_site_id':pd.Series(dtype='int'),\n",
    "                    'person_source_value':pd.Series(dtype='str'),\n",
    "                    'gender_source_value':pd.Series(dtype='str'),\n",
    "                    'gender_source_concept_id':pd.Series(dtype='int'),\n",
    "                    'race_source_value':pd.Series(dtype='str'),\n",
    "                    'race_source_concept_id':pd.Series(dtype='int'),\n",
    "                    'ethnicity_source_value':pd.Series(dtype='str'),\n",
    "                    'ethnicity_source_concept_id':pd.Series(dtype='int'),\n",
    "                    })"
   ]
  },
  {
   "cell_type": "code",
   "execution_count": null,
   "id": "335f4534-3ef2-4646-9938-cf53366650f4",
   "metadata": {},
   "outputs": [
    {
     "ename": "",
     "evalue": "",
     "output_type": "error",
     "traceback": [
      "\u001b[1;31mRunning cells with '/usr/bin/python3' requires ipykernel package.\n",
      "Run the following command to install 'ipykernel' into the Python environment. \n",
      "Command: '/usr/bin/python3 -m pip install ipykernel -U --user --force-reinstall'"
     ]
    }
   ],
   "source": [
    "df_omop_person"
   ]
  },
  {
   "cell_type": "code",
   "execution_count": null,
   "id": "f948b381-8ce4-446b-b288-e1575c54d6f3",
   "metadata": {},
   "outputs": [
    {
     "ename": "",
     "evalue": "",
     "output_type": "error",
     "traceback": [
      "\u001b[1;31mRunning cells with '/usr/bin/python3' requires ipykernel package.\n",
      "Run the following command to install 'ipykernel' into the Python environment. \n",
      "Command: '/usr/bin/python3 -m pip install ipykernel -U --user --force-reinstall'"
     ]
    }
   ],
   "source": [
    "# create an omop person_id. \n",
    "# Because person_id is an integer and FHIR ids are a string or uuid, we'll need to create a conversion/mapping table.\n",
    "# regardless, we should keep one anyway and document that this needs to be maintained by each omop_site (federated or centralized)\n",
    "# for our prototype, the file pid_map.csv was created for the mapping.\n",
    "df_pid_map = pd.read_csv ('./xlat_content/pid_map.csv')\n",
    "df_pid_map"
   ]
  },
  {
   "cell_type": "code",
   "execution_count": null,
   "id": "5e505e69-3670-443c-a416-9c25389f5476",
   "metadata": {},
   "outputs": [
    {
     "ename": "",
     "evalue": "",
     "output_type": "error",
     "traceback": [
      "\u001b[1;31mRunning cells with '/usr/bin/python3' requires ipykernel package.\n",
      "Run the following command to install 'ipykernel' into the Python environment. \n",
      "Command: '/usr/bin/python3 -m pip install ipykernel -U --user --force-reinstall'"
     ]
    }
   ],
   "source": [
    "# check if the id already exists in the mapping. \n",
    "# If yes, assign OMOP person_id integer. \n",
    "# If not, then augment the highest integer value for a new omop_id and add a new line to the map file\n",
    "# populate omop_person_id into a list to identify the largest integer (max value)\n",
    "\n",
    "# search for a row that has a matching fhir_id\n",
    "df_pid_tmp = df_pid_map.loc[(df_pid_map['fhir_pid'] == pat.id)]\n",
    "df_pid_tmp"
   ]
  },
  {
   "cell_type": "code",
   "execution_count": null,
   "id": "7868e1c8-6264-43b1-a005-10fa9fb647fd",
   "metadata": {},
   "outputs": [
    {
     "ename": "",
     "evalue": "",
     "output_type": "error",
     "traceback": [
      "\u001b[1;31mRunning cells with '/usr/bin/python3' requires ipykernel package.\n",
      "Run the following command to install 'ipykernel' into the Python environment. \n",
      "Command: '/usr/bin/python3 -m pip install ipykernel -U --user --force-reinstall'"
     ]
    }
   ],
   "source": [
    "# if the dataframe is empty then append a new row with the pid and the highest integer value\n",
    "if not df_pid_tmp.empty:\n",
    "    print(\"match found\")\n",
    "    # assign omop_person_id to a variable to populate person_id in the omop record\n",
    "    omop_person_id = df_pid_tmp['omop_person_id'].values[0]\n",
    "    print(f\"omop_person_id: {omop_person_id}\")\n",
    "elif df_pid_tmp.empty:\n",
    "    print(\"empty return\")\n",
    "    # get the max value in the omop_person_id\n",
    "    omop_pids = df_pid_map['omop_person_id']\n",
    "    omop_pid_max_id = omop_pids.max()\n",
    "    print(omop_pid_max_id)\n",
    "    new_omop_pid = omop_pid_max_id + 1\n",
    "    print(new_omop_pid)\n",
    "    # create a dictionary of the new value\n",
    "    dict_new_fhir_omop_id_entry = [{'fhir_pid': pat.id, 'omop_person_id': new_omop_pid}]\n",
    "    # append the new fhir_id and the id to the temp dataframe\n",
    "    df_pid_map = df_pid_map.append(dict_new_fhir_omop_id_entry, ignore_index=True)\n",
    "    print(df_pid_map)\n",
    "    omop_person_id = new_omop_pid\n",
    "    print(f\"omop_person_id: {omop_person_id}\")\n",
    "    # finally, export the dataframe with the new entry to the CSV file\n",
    "    df_pid_map.to_csv('./xlat_content/pid_map.csv')\n",
    "else:\n",
    "    print(\"unknown\")"
   ]
  },
  {
   "cell_type": "code",
   "execution_count": null,
   "id": "7dd9f324-4185-4187-b804-3b7ca74525ee",
   "metadata": {},
   "outputs": [
    {
     "ename": "",
     "evalue": "",
     "output_type": "error",
     "traceback": [
      "\u001b[1;31mRunning cells with '/usr/bin/python3' requires ipykernel package.\n",
      "Run the following command to install 'ipykernel' into the Python environment. \n",
      "Command: '/usr/bin/python3 -m pip install ipykernel -U --user --force-reinstall'"
     ]
    }
   ],
   "source": [
    "# Handle birthsex code to enter gender if there is value in Patient.extension.birth_sex. \n",
    "# This must be done after the check for extensions logic.\n",
    "if birth_sex_code == 0:\n",
    "    birth_sex_code = pat.gender"
   ]
  },
  {
   "cell_type": "code",
   "execution_count": null,
   "id": "96c90472-d2ca-4be7-a3e3-f08ef452d925",
   "metadata": {
    "tags": []
   },
   "outputs": [
    {
     "ename": "",
     "evalue": "",
     "output_type": "error",
     "traceback": [
      "\u001b[1;31mRunning cells with '/usr/bin/python3' requires ipykernel package.\n",
      "Run the following command to install 'ipykernel' into the Python environment. \n",
      "Command: '/usr/bin/python3 -m pip install ipykernel -U --user --force-reinstall'"
     ]
    }
   ],
   "source": [
    "# try the dataframe append logic with FHIR elements\n",
    "dict_omop_entry = [{'person_id': omop_person_id,\n",
    "                    'gender_concept_id': 0, \n",
    "                    'year_of_birth': birthDate.year, \n",
    "                    'month_of_birth': birthDate.month, \n",
    "                    'day_of_birth': birthDate.day,\n",
    "                    'birth_datetime': pat.birthDate,\n",
    "                    'race_concept_id': 0, \n",
    "                    'ethnicity_concept_id': 0,\n",
    "                    'person_source_value': pat.id,\n",
    "                    'race_source_value': race_category_code,\n",
    "                    'gender_source_value': birth_sex_code, # pat.gender is the alternative\n",
    "                    'ethnicity_source_value': ethnicity_category_code\n",
    "                   }]\n",
    "\n",
    "# convert from dictionary to dataframe\n",
    "df_omop_entry = pd.DataFrame.from_dict(dict_omop_entry)\n",
    "\n",
    "# combined data\n",
    "df_omop_new = pd.concat([df_omop_person,df_omop_entry], ignore_index=True, sort=False)\n",
    "\n",
    "print(\"\\n  **  Combined Data  **\")\n",
    "\n",
    "df_omop_new"
   ]
  },
  {
   "cell_type": "code",
   "execution_count": null,
   "id": "23037a13-c39d-48a0-b5b6-c83df752edbe",
   "metadata": {
    "tags": []
   },
   "outputs": [
    {
     "ename": "",
     "evalue": "",
     "output_type": "error",
     "traceback": [
      "\u001b[1;31mRunning cells with '/usr/bin/python3' requires ipykernel package.\n",
      "Run the following command to install 'ipykernel' into the Python environment. \n",
      "Command: '/usr/bin/python3 -m pip install ipykernel -U --user --force-reinstall'"
     ]
    }
   ],
   "source": [
    "# Insert Dataframe into SQL Server:\n",
    "\n",
    "df_omop_new.to_sql('person', con=dbcon_handle_psql, schema='omop_cdm_mitre', if_exists='replace',\n",
    "          index=False)"
   ]
  },
  {
   "cell_type": "code",
   "execution_count": null,
   "id": "870dd078-b92d-4923-8567-d7412fbfdcdb",
   "metadata": {},
   "outputs": [
    {
     "ename": "",
     "evalue": "",
     "output_type": "error",
     "traceback": [
      "\u001b[1;31mRunning cells with '/usr/bin/python3' requires ipykernel package.\n",
      "Run the following command to install 'ipykernel' into the Python environment. \n",
      "Command: '/usr/bin/python3 -m pip install ipykernel -U --user --force-reinstall'"
     ]
    }
   ],
   "source": [
    "# test the database connection. Unlike mysql, postgresql calls disconnect after the call is done.\n",
    "df_omop_rs = pd.read_sql(\"\"\"\n",
    "                 SELECT * FROM omop_cdm_mitre.person LIMIT 10\n",
    "                 \"\"\",\n",
    "                 con = dbcon_handle_psql)\n",
    "\n",
    "df_omop_rs"
   ]
  },
  {
   "cell_type": "code",
   "execution_count": null,
   "id": "8b559247-b7bf-4cb5-8931-2536454b2bc2",
   "metadata": {},
   "outputs": [
    {
     "ename": "",
     "evalue": "",
     "output_type": "error",
     "traceback": [
      "\u001b[1;31mRunning cells with '/usr/bin/python3' requires ipykernel package.\n",
      "Run the following command to install 'ipykernel' into the Python environment. \n",
      "Command: '/usr/bin/python3 -m pip install ipykernel -U --user --force-reinstall'"
     ]
    }
   ],
   "source": [
    "# output to CSV\n",
    "df_omop_new.to_csv('./output/person.csv', index=False)  "
   ]
  },
  {
   "cell_type": "markdown",
   "id": "6f0a363d-915b-495c-8051-925523dd42cf",
   "metadata": {},
   "source": [
    "### Map Name to Observation"
   ]
  },
  {
   "cell_type": "code",
   "execution_count": null,
   "id": "0ac66c5b-1812-4c39-9cab-3179956ceb9a",
   "metadata": {},
   "outputs": [
    {
     "ename": "",
     "evalue": "",
     "output_type": "error",
     "traceback": [
      "\u001b[1;31mRunning cells with '/usr/bin/python3' requires ipykernel package.\n",
      "Run the following command to install 'ipykernel' into the Python environment. \n",
      "Command: '/usr/bin/python3 -m pip install ipykernel -U --user --force-reinstall'"
     ]
    }
   ],
   "source": [
    "# create an OMOP dataframe for Observation\n",
    "df_omop_observation = pd.DataFrame({'observation_id': pd.Series(dtype='int'),\n",
    "                    'person_id': pd.Series(dtype='int'),\n",
    "                    'observation_concept_id': pd.Series(dtype='int'),\n",
    "                    'observation_date': pd.Series(dtype='str'),\n",
    "                    'observation_datetime': pd.Series(dtype='str'),\n",
    "                    'observation_type_concept_id':pd.Series(dtype='int'),\n",
    "                    'value_as_number':pd.Series(dtype='float'),\n",
    "                    'value_as_string':pd.Series(dtype='str'),\n",
    "                    'value_as_concept_id':pd.Series(dtype='int'),\n",
    "                    'care_site_id':pd.Series(dtype='int'),\n",
    "                    'qualifier_concept_id':pd.Series(dtype='int'),\n",
    "                    'unit_concept_id':pd.Series(dtype='str'),\n",
    "                    'provider_id':pd.Series(dtype='int'),\n",
    "                    'visit_occurrence_id':pd.Series(dtype='int'),\n",
    "                    'visit_detail_id':pd.Series(dtype='int'),\n",
    "                    'unit_source_value':pd.Series(dtype='str'),\n",
    "                    'observation_source_value':pd.Series(dtype='str'),\n",
    "                    'unit_source_value':pd.Series(dtype='str'),\n",
    "                    'value_source_value':pd.Series(dtype='str'),\n",
    "                    'observation_event_id':pd.Series(dtype='int'),\n",
    "                    'obs_event_field_concept_id':pd.Series(dtype='int'),                                    \n",
    "                    })"
   ]
  },
  {
   "cell_type": "code",
   "execution_count": null,
   "id": "11047a52-b7f2-4c4c-8818-58a8a22b8168",
   "metadata": {},
   "outputs": [
    {
     "ename": "",
     "evalue": "",
     "output_type": "error",
     "traceback": [
      "\u001b[1;31mRunning cells with '/usr/bin/python3' requires ipykernel package.\n",
      "Run the following command to install 'ipykernel' into the Python environment. \n",
      "Command: '/usr/bin/python3 -m pip install ipykernel -U --user --force-reinstall'"
     ]
    }
   ],
   "source": [
    "df_omop_observation"
   ]
  },
  {
   "cell_type": "code",
   "execution_count": null,
   "id": "61b95ed4-8c63-459b-a4cc-e038199e383d",
   "metadata": {
    "tags": []
   },
   "outputs": [
    {
     "ename": "",
     "evalue": "",
     "output_type": "error",
     "traceback": [
      "\u001b[1;31mRunning cells with '/usr/bin/python3' requires ipykernel package.\n",
      "Run the following command to install 'ipykernel' into the Python environment. \n",
      "Command: '/usr/bin/python3 -m pip install ipykernel -U --user --force-reinstall'"
     ]
    }
   ],
   "source": [
    "# try the dataframe append logic with FHIR elements\n",
    "df_omop_observation.drop(df_omop_observation.index, inplace=True) # first reset the dataframe contents (just needed for initialization)\n",
    "\n",
    "OMOP_CONCEPT_ID_NAME = int(4161172) # set constant for Patient name = 4161172; OMOP treats name as an observation.\n",
    "OMOP_CONCEPT_ID_OBSERVATION_TYPE_EHR = int(32880)  # set source from an \"standard algorithm\" (implying FHIR-based)\n",
    "\n",
    "dict_omop_observation_name = [{'observation_id': 1, \n",
    "                    'person_id' : omop_person_id,\n",
    "                    'observation_concept_id' : OMOP_CONCEPT_ID_NAME,\n",
    "                    'observation_date': (pat.meta.lastUpdated).strftime('%Y-%m-%d'), # code to the last updated datetime of the FHIR patient instance containing name\n",
    "                    'observation_type_concept_id': OMOP_CONCEPT_ID_OBSERVATION_TYPE_EHR,\n",
    "                    'value_as_string' : pat.name[0].given[0] + ' ' + pat.name[0].family,\n",
    "                   }]\n",
    "\n",
    "# convert from dictionary to dataframe\n",
    "df_omop_observation_name = pd.DataFrame.from_dict(dict_omop_observation_name)\n",
    "\n",
    "df_omop_observation_name"
   ]
  },
  {
   "cell_type": "code",
   "execution_count": null,
   "id": "3fe6f551-2c7d-426c-9f7d-bd70288bab58",
   "metadata": {},
   "outputs": [
    {
     "ename": "",
     "evalue": "",
     "output_type": "error",
     "traceback": [
      "\u001b[1;31mRunning cells with '/usr/bin/python3' requires ipykernel package.\n",
      "Run the following command to install 'ipykernel' into the Python environment. \n",
      "Command: '/usr/bin/python3 -m pip install ipykernel -U --user --force-reinstall'"
     ]
    }
   ],
   "source": [
    "# combined data\n",
    "\n",
    "#df_omop_observation_new = df_omop_observation.append(dict_omop_observation_name, ignore_index=True, sort=False) # append is now deprecated. Use concat().\n",
    "df_omop_observation_new = pd.concat([df_omop_observation,df_omop_observation_name], ignore_index=True, sort=False)\n",
    "\n",
    "print(\"\\n  **  Combined Data  **\")\n",
    "\n",
    "# df_omop_observation_new\n",
    "\n",
    "list(df_omop_observation_new.columns)"
   ]
  },
  {
   "cell_type": "code",
   "execution_count": null,
   "id": "8f96cdc4-b6bc-4cd7-9bf8-a93645e076b8",
   "metadata": {},
   "outputs": [
    {
     "ename": "",
     "evalue": "",
     "output_type": "error",
     "traceback": [
      "\u001b[1;31mRunning cells with '/usr/bin/python3' requires ipykernel package.\n",
      "Run the following command to install 'ipykernel' into the Python environment. \n",
      "Command: '/usr/bin/python3 -m pip install ipykernel -U --user --force-reinstall'"
     ]
    }
   ],
   "source": [
    "df_omop_observation_new"
   ]
  },
  {
   "cell_type": "code",
   "execution_count": null,
   "id": "373aeb0d-c352-49d5-a453-c025c236d2c2",
   "metadata": {},
   "outputs": [
    {
     "ename": "",
     "evalue": "",
     "output_type": "error",
     "traceback": [
      "\u001b[1;31mRunning cells with '/usr/bin/python3' requires ipykernel package.\n",
      "Run the following command to install 'ipykernel' into the Python environment. \n",
      "Command: '/usr/bin/python3 -m pip install ipykernel -U --user --force-reinstall'"
     ]
    }
   ],
   "source": [
    "# Insert Dataframe into SQL Server:\n",
    "\n",
    "df_omop_observation_new.to_sql('observation', con=dbcon_handle_psql, schema='omop_cdm_mitre', if_exists='replace',\n",
    "          index=False)"
   ]
  },
  {
   "cell_type": "code",
   "execution_count": null,
   "id": "1948fa8f-0f83-4970-badd-4f1b8ce5c436",
   "metadata": {},
   "outputs": [
    {
     "ename": "",
     "evalue": "",
     "output_type": "error",
     "traceback": [
      "\u001b[1;31mRunning cells with '/usr/bin/python3' requires ipykernel package.\n",
      "Run the following command to install 'ipykernel' into the Python environment. \n",
      "Command: '/usr/bin/python3 -m pip install ipykernel -U --user --force-reinstall'"
     ]
    }
   ],
   "source": [
    "# test the database connection. Unlike mysql, postgresql calls disconnect after the call is done.\n",
    "df_omop_rs = pd.read_sql(\"\"\"\n",
    "                 SELECT * FROM omop_cdm_mitre.observation LIMIT 10\n",
    "                 \"\"\",\n",
    "                 con = dbcon_handle_psql)\n",
    "\n",
    "df_omop_rs"
   ]
  },
  {
   "cell_type": "code",
   "execution_count": null,
   "id": "0b6d4cd4-7e3e-4150-a912-01cb1d4d7e99",
   "metadata": {},
   "outputs": [
    {
     "ename": "",
     "evalue": "",
     "output_type": "error",
     "traceback": [
      "\u001b[1;31mRunning cells with '/usr/bin/python3' requires ipykernel package.\n",
      "Run the following command to install 'ipykernel' into the Python environment. \n",
      "Command: '/usr/bin/python3 -m pip install ipykernel -U --user --force-reinstall'"
     ]
    }
   ],
   "source": []
  }
 ],
 "metadata": {
  "kernelspec": {
   "display_name": "Python 3 (ipykernel)",
   "language": "python",
   "name": "python3"
  },
  "language_info": {
   "codemirror_mode": {
    "name": "ipython",
    "version": 3
   },
   "file_extension": ".py",
   "mimetype": "text/x-python",
   "name": "python",
   "nbconvert_exporter": "python",
   "pygments_lexer": "ipython3",
   "version": "3.8.2"
  }
 },
 "nbformat": 4,
 "nbformat_minor": 5
}
